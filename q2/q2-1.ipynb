{
 "cells": [
  {
   "cell_type": "code",
   "execution_count": 9,
   "id": "2943944b",
   "metadata": {},
   "outputs": [],
   "source": [
    "import random as r\n",
    "import csv\n",
    "\n",
    "f = open('q2.csv', 'w', newline=\"\")\n",
    "wr = csv.writer(f)\n",
    "\n",
    "list = []\n",
    "list.append(\"100번 시행\")\n",
    "for i in range(1,101):\n",
    "    list.append(r.randrange(1,7))\n",
    "wr.writerow(list)\n",
    "\n",
    "list = []\n",
    "list.append(\"1000번 시행\")\n",
    "for i in range(1,1001):\n",
    "    list.append(r.randrange(1,7))\n",
    "wr.writerow(list)\n",
    "\n",
    "list = []\n",
    "list.append(\"10,000번 시행\")\n",
    "for i in range(1,10001):\n",
    "    list.append(r.randrange(1,7))\n",
    "wr.writerow(list)\n",
    "\n",
    "list = []\n",
    "list.append(\"100,000번 시행\")\n",
    "for i in range(1,100001):\n",
    "    list.append(r.randrange(1,7))\n",
    "wr.writerow(list)\n",
    "\n",
    "f.close()"
   ]
  },
  {
   "cell_type": "code",
   "execution_count": null,
   "id": "e6ae8312",
   "metadata": {},
   "outputs": [],
   "source": []
  }
 ],
 "metadata": {
  "kernelspec": {
   "display_name": "Python 3 (ipykernel)",
   "language": "python",
   "name": "python3"
  },
  "language_info": {
   "codemirror_mode": {
    "name": "ipython",
    "version": 3
   },
   "file_extension": ".py",
   "mimetype": "text/x-python",
   "name": "python",
   "nbconvert_exporter": "python",
   "pygments_lexer": "ipython3",
   "version": "3.10.10"
  }
 },
 "nbformat": 4,
 "nbformat_minor": 5
}
